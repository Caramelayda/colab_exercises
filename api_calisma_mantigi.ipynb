{
  "nbformat": 4,
  "nbformat_minor": 0,
  "metadata": {
    "colab": {
      "provenance": [],
      "authorship_tag": "ABX9TyNYrJ9WcGqxZ9PgYslihmPr",
      "include_colab_link": true
    },
    "kernelspec": {
      "name": "python3",
      "display_name": "Python 3"
    },
    "language_info": {
      "name": "python"
    }
  },
  "cells": [
    {
      "cell_type": "markdown",
      "metadata": {
        "id": "view-in-github",
        "colab_type": "text"
      },
      "source": [
        "<a href=\"https://colab.research.google.com/github/Caramelayda/colab_exercises/blob/main/api_calisma_mantigi.ipynb\" target=\"_parent\"><img src=\"https://colab.research.google.com/assets/colab-badge.svg\" alt=\"Open In Colab\"/></a>"
      ]
    },
    {
      "cell_type": "markdown",
      "source": [
        "# API ÇALIŞMA MANTIĞI (Hava Durumu Örneği)"
      ],
      "metadata": {
        "id": "tFKeYLhk5yMl"
      }
    },
    {
      "cell_type": "markdown",
      "source": [
        "**Yapılan İşlem:**\n",
        "Dışarıdaki bir API'ye (OpenWeatherMap - https://home.openweathermap.org/api_keys) istek gönderildi ve JSON verisini response etti (cevapladı)."
      ],
      "metadata": {
        "id": "nUKwk3Pc_BNf"
      }
    },
    {
      "cell_type": "code",
      "source": [
        "import requests"
      ],
      "metadata": {
        "id": "YQKs_ILZaWxe"
      },
      "execution_count": 56,
      "outputs": []
    },
    {
      "cell_type": "code",
      "execution_count": 57,
      "metadata": {
        "id": "w_ZLVYk4aU4U"
      },
      "outputs": [],
      "source": [
        "API_KEY = \"ecc84e1dd2829d58bfca0ee200c360d4\""
      ]
    },
    {
      "cell_type": "markdown",
      "source": [
        "API anahtarı — sisteme kim olduğunu söyleyen “şifre” gibidir."
      ],
      "metadata": {
        "id": "fUcLsIHsGCJy"
      }
    },
    {
      "cell_type": "code",
      "source": [
        "city = input(\"Hangi şerirdesiniz? \")"
      ],
      "metadata": {
        "colab": {
          "base_uri": "https://localhost:8080/"
        },
        "id": "GNY_k7dcaz5b",
        "outputId": "dab5b8d1-f2ea-4d35-bd22-2b7ff0f8dd1a"
      },
      "execution_count": 58,
      "outputs": [
        {
          "name": "stdout",
          "output_type": "stream",
          "text": [
            "Hangi şerirdesiniz? Isparta\n"
          ]
        }
      ]
    },
    {
      "cell_type": "code",
      "source": [
        "url = f\"https://api.openweathermap.org/data/2.5/weather?q={city}&appid={API_KEY}&units=metric&lang=tr\""
      ],
      "metadata": {
        "id": "72U2naVbyjVa"
      },
      "execution_count": 59,
      "outputs": []
    },
    {
      "cell_type": "markdown",
      "source": [
        " API URL'si"
      ],
      "metadata": {
        "id": "kEsNHOiX9wpz"
      }
    },
    {
      "cell_type": "code",
      "source": [
        "response = requests.get(url)"
      ],
      "metadata": {
        "id": "pN80pcDmzx8p"
      },
      "execution_count": 60,
      "outputs": []
    },
    {
      "cell_type": "markdown",
      "source": [
        "API'ye istek atıldı."
      ],
      "metadata": {
        "id": "9t9UDHa99yuY"
      }
    },
    {
      "cell_type": "code",
      "source": [
        "data = response.json()"
      ],
      "metadata": {
        "id": "ZxNj4TOV9kd4"
      },
      "execution_count": 61,
      "outputs": []
    },
    {
      "cell_type": "markdown",
      "source": [
        "Cevap JSON formatında alındı."
      ],
      "metadata": {
        "id": "PhRkAak_92ro"
      }
    },
    {
      "cell_type": "code",
      "source": [
        "if response.status_code == 200:\n",
        "  print(\"\\n🌤️ HAVA DURUMU BİLGİSİ 🌤️\")\n",
        "  print(\"+-+-+-+-+-+-+-+-+-+-+-+-+-+-+\")\n",
        "  print(\"Şehir:\", data[\"name\"])\n",
        "  print(\"Sıcaklık:\", f\"{data['main']['temp']} °C\")\n",
        "  print(\"Hissedilen:\", f\"{data['main']['feels_like']} °C\")\n",
        "  print(\"Durum:\", data[\"weather\"][0][\"description\"].capitalize())\n",
        "  print(\"Nem Oranı:\", f\"%{data['main']['humidity']}\")\n",
        "  print(\"+-+-+-+-+-+-+-+-+-+-+-+-+-+-+\\n\")\n",
        "\n",
        "else:\n",
        "  print(\" ❌ Hava durumu bilgisi alınırken bir hata oluştu. ❌\")\n",
        "  print(\"Detay:\", data.get(\"message\", \"Bilinmeyen hata oluştu.\"))"
      ],
      "metadata": {
        "colab": {
          "base_uri": "https://localhost:8080/"
        },
        "id": "tdE4S9I8z6-F",
        "outputId": "075e6f41-82ec-41b7-9842-a593d913a776"
      },
      "execution_count": 62,
      "outputs": [
        {
          "output_type": "stream",
          "name": "stdout",
          "text": [
            "\n",
            "🌤️ HAVA DURUMU BİLGİSİ 🌤️\n",
            "+-+-+-+-+-+-+-+-+-+-+-+-+-+-+\n",
            "Şehir: Isparta\n",
            "Sıcaklık: 18.64 °C\n",
            "Hissedilen: 17.34 °C\n",
            "Durum: Açık\n",
            "Nem Oranı: %30\n",
            "+-+-+-+-+-+-+-+-+-+-+-+-+-+-+\n",
            "\n"
          ]
        }
      ]
    },
    {
      "cell_type": "markdown",
      "source": [
        "Verinin ekrana yazdırıldığı kısım"
      ],
      "metadata": {
        "id": "tD7BUU4V-CNw"
      }
    }
  ]
}